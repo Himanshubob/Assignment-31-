{
 "cells": [
  {
   "cell_type": "markdown",
   "id": "95406211",
   "metadata": {},
   "source": [
    "# Q1. define overfitting and underfing in ML . what arethe consequence of each  and how  can they be mitigated ?"
   ]
  },
  {
   "cell_type": "markdown",
   "id": "ac3e8b81",
   "metadata": {},
   "source": [
    "# ans.. Overfiting \n",
    "# trainig  model accurace is hight - 98%  but test modle accurace is 60%   this type secenario is called overfiting \n",
    "# underfiting \n",
    "# trainig model accurace is low -54% and test modle accourace is low -45% this type senriuo is called the underfiting "
   ]
  },
  {
   "cell_type": "markdown",
   "id": "03b4c8b3",
   "metadata": {},
   "source": [
    "# Q2.. How can we reduce overfiting ?Explain in brief"
   ]
  },
  {
   "cell_type": "markdown",
   "id": "feab59c9",
   "metadata": {},
   "source": [
    "# ans . training with the more data . and Data augmentation ,feature selecation"
   ]
  },
  {
   "cell_type": "markdown",
   "id": "9c0032e3",
   "metadata": {},
   "source": [
    "# Q3.. Explain underfitting .List secenarios where underfitting can occur in ml."
   ]
  },
  {
   "cell_type": "markdown",
   "id": "0fcf6e51",
   "metadata": {},
   "source": [
    "# underfitting basicaly is  training accuracy is low and test accuracey is also low \n",
    "# the data model is unable to capture the relationship between the input and output variables accurately,"
   ]
  },
  {
   "cell_type": "markdown",
   "id": "28077e2a",
   "metadata": {},
   "source": [
    "# Q4.. Explain the bias_variance tradeoff in ML .what is the relationship b/w  bias and variance  and how do they affect model performance?"
   ]
  },
  {
   "cell_type": "markdown",
   "id": "3a80c7d9",
   "metadata": {},
   "source": [
    "# ans. bias- variance is depend on the model accurece  \n",
    "# modle overfiting   bias= low bias , variance = high variance\n",
    "#  modle underfing  , bias = high bias , variance  = high variance\n",
    "# gerenalized modle  ,low bias ,low variance "
   ]
  },
  {
   "cell_type": "markdown",
   "id": "41ee2aa9",
   "metadata": {},
   "source": [
    "# Q5.Discuss some common methods for detecting overfitng and underfitng  in ML. how  can  you determine  whether your model is overfiting  or underfiting ?"
   ]
  },
  {
   "cell_type": "markdown",
   "id": "10f47d9a",
   "metadata": {},
   "source": [
    "# ans.. cheak  the bias and variance \n",
    "# 1 your bias is low and variance is high = model is overfiting \n",
    "# 2. your bias is low and variance  is low = model is gerenalized \n",
    "# 3. your  bias high and variance is high  = model is underfitng "
   ]
  },
  {
   "cell_type": "markdown",
   "id": "708f51ea",
   "metadata": {},
   "source": [
    "# Q6: Compare and contrast bias and variance in machine learning. What are some examples of high bias and high variance models, and how do they differ in terms of their performance?"
   ]
  },
  {
   "cell_type": "markdown",
   "id": "7fc7cc20",
   "metadata": {},
   "source": [
    "# 1 your bias is low and variance is high = model is overfiting \n",
    "# 2. your bias is low and variance  is low = model is gerenalized \n",
    "# 3. your  bias high and variance is high  = model is underfitng "
   ]
  },
  {
   "cell_type": "markdown",
   "id": "284a7d65",
   "metadata": {},
   "source": [
    "# Q7: What is regularization in machine learning, and how can it be used to prevent overfitting? Describe some common regularization techniques and how they work."
   ]
  },
  {
   "cell_type": "markdown",
   "id": "1fdbedac",
   "metadata": {},
   "source": [
    "# ans.. Regulaization is technique that adds information to model to prevent the occurrence of overfitting  it is a type of regression that minimzes the coefficient estimates to zero to reduce the capacity of the model "
   ]
  },
  {
   "cell_type": "code",
   "execution_count": null,
   "id": "b722c5af",
   "metadata": {},
   "outputs": [],
   "source": []
  }
 ],
 "metadata": {
  "kernelspec": {
   "display_name": "Python 3 (ipykernel)",
   "language": "python",
   "name": "python3"
  },
  "language_info": {
   "codemirror_mode": {
    "name": "ipython",
    "version": 3
   },
   "file_extension": ".py",
   "mimetype": "text/x-python",
   "name": "python",
   "nbconvert_exporter": "python",
   "pygments_lexer": "ipython3",
   "version": "3.10.9"
  }
 },
 "nbformat": 4,
 "nbformat_minor": 5
}
